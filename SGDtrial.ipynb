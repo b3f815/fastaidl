{
  "nbformat": 4,
  "nbformat_minor": 0,
  "metadata": {
    "colab": {
      "name": "SGDtrial.ipynb",
      "provenance": [],
      "include_colab_link": true
    },
    "kernelspec": {
      "name": "python3",
      "display_name": "Python 3"
    },
    "accelerator": "GPU"
  },
  "cells": [
    {
      "cell_type": "markdown",
      "metadata": {
        "id": "view-in-github",
        "colab_type": "text"
      },
      "source": [
        "<a href=\"https://colab.research.google.com/github/j-winfield/fastaidl/blob/master/SGDtrial.ipynb\" target=\"_parent\"><img src=\"https://colab.research.google.com/assets/colab-badge.svg\" alt=\"Open In Colab\"/></a>"
      ]
    },
    {
      "cell_type": "code",
      "metadata": {
        "id": "7OIYhwZDoGdg",
        "colab_type": "code",
        "colab": {}
      },
      "source": [
        "%matplotlib inline\n",
        "from fastai.basics import *"
      ],
      "execution_count": 0,
      "outputs": []
    },
    {
      "cell_type": "code",
      "metadata": {
        "id": "JygCisMEomkv",
        "colab_type": "code",
        "colab": {}
      },
      "source": [
        "n=100\n"
      ],
      "execution_count": 0,
      "outputs": []
    },
    {
      "cell_type": "code",
      "metadata": {
        "id": "qvcF1Cu2o0Y3",
        "colab_type": "code",
        "outputId": "b1b67efe-c083-46fb-e451-8f55235dec4b",
        "colab": {
          "base_uri": "https://localhost:8080/",
          "height": 102
        }
      },
      "source": [
        "x=torch.ones(n,2)\n",
        "x[:,0].uniform_(-1.,1)\n",
        "x[:5]"
      ],
      "execution_count": 3,
      "outputs": [
        {
          "output_type": "execute_result",
          "data": {
            "text/plain": [
              "tensor([[ 0.0981,  1.0000],\n",
              "        [-0.1942,  1.0000],\n",
              "        [-0.2149,  1.0000],\n",
              "        [-0.1421,  1.0000],\n",
              "        [-0.8179,  1.0000]])"
            ]
          },
          "metadata": {
            "tags": []
          },
          "execution_count": 3
        }
      ]
    },
    {
      "cell_type": "code",
      "metadata": {
        "id": "PqZpid-Mpd1Z",
        "colab_type": "code",
        "outputId": "71b2bdb4-6c75-41b5-e7bd-b29331b10eed",
        "colab": {
          "base_uri": "https://localhost:8080/",
          "height": 34
        }
      },
      "source": [
        "a=tensor(3.,2)\n",
        "a"
      ],
      "execution_count": 4,
      "outputs": [
        {
          "output_type": "execute_result",
          "data": {
            "text/plain": [
              "tensor([3., 2.])"
            ]
          },
          "metadata": {
            "tags": []
          },
          "execution_count": 4
        }
      ]
    },
    {
      "cell_type": "code",
      "metadata": {
        "id": "AEd9mbROp2He",
        "colab_type": "code",
        "outputId": "6d70b3b5-17f3-4e8b-b145-ef6bd1085b6e",
        "colab": {
          "base_uri": "https://localhost:8080/",
          "height": 258
        }
      },
      "source": [
        "y=x@a+torch.rand(n)\n",
        "y"
      ],
      "execution_count": 5,
      "outputs": [
        {
          "output_type": "execute_result",
          "data": {
            "text/plain": [
              "tensor([ 3.0900,  1.5590,  1.6528,  1.8224, -0.0133,  3.8112,  4.8285,  4.6586,\n",
              "         3.3558,  3.5865, -0.2421,  4.6083, -0.4725,  2.2080,  1.0516,  0.6709,\n",
              "         5.1314,  4.0310,  1.4754, -0.4646,  4.9690,  2.3084,  5.3532,  3.2521,\n",
              "         4.4466,  4.0712,  0.2287,  4.7751,  4.3614,  1.3471,  1.2575, -0.4737,\n",
              "         0.4660,  1.4579,  2.3536,  2.3636,  0.2391,  5.0410,  1.2443,  5.4238,\n",
              "        -0.3844,  1.6714,  4.9046,  2.1606,  1.8283,  4.5170,  3.4346,  2.1482,\n",
              "         2.6357,  0.9487,  4.5230,  3.0490,  3.1228,  1.0542,  1.3454,  0.9250,\n",
              "         1.2388,  4.5956, -0.8422,  0.3240,  0.6913,  2.5165,  1.3643,  4.9383,\n",
              "         4.1905,  5.2314,  1.0122,  2.9953,  0.5409,  1.1970,  5.5238,  2.5517,\n",
              "        -0.5417,  3.4393, -0.4697,  0.0536,  3.3449,  2.0395,  0.1467, -0.2164,\n",
              "         2.4634,  0.3959,  3.5587,  4.0150,  4.6800, -0.1233,  1.8940,  1.2961,\n",
              "         3.1965,  2.7935,  2.9378,  3.4195,  0.6763,  2.9811,  1.5547,  5.2925,\n",
              "         3.8033,  0.1855,  2.2602,  2.4058])"
            ]
          },
          "metadata": {
            "tags": []
          },
          "execution_count": 5
        }
      ]
    },
    {
      "cell_type": "code",
      "metadata": {
        "id": "EgoxMEzaqPE9",
        "colab_type": "code",
        "outputId": "8042da62-b89c-4a65-b33b-e5f514e9c6f9",
        "colab": {
          "base_uri": "https://localhost:8080/",
          "height": 286
        }
      },
      "source": [
        "plt.scatter(x[:,0],y)"
      ],
      "execution_count": 6,
      "outputs": [
        {
          "output_type": "execute_result",
          "data": {
            "text/plain": [
              "<matplotlib.collections.PathCollection at 0x7f4dc513d6a0>"
            ]
          },
          "metadata": {
            "tags": []
          },
          "execution_count": 6
        },
        {
          "output_type": "display_data",
          "data": {
            "image/png": "[encoded data removed]",
            "text/plain": [
              "<Figure size 432x288 with 1 Axes>"
            ]
          },
          "metadata": {
            "tags": []
          }
        }
      ]
    },
    {
      "cell_type": "code",
      "metadata": {
        "id": "4n-d7unSrL0N",
        "colab_type": "code",
        "colab": {}
      },
      "source": [
        "def mse(y_hat,y):return ((y_hat-y)**2).mean()"
      ],
      "execution_count": 0,
      "outputs": []
    },
    {
      "cell_type": "code",
      "metadata": {
        "id": "jGWTqHydsEvy",
        "colab_type": "code",
        "colab": {}
      },
      "source": [
        "a=tensor(-1.,1.)"
      ],
      "execution_count": 0,
      "outputs": []
    },
    {
      "cell_type": "code",
      "metadata": {
        "id": "ZPZo4p6yszA7",
        "colab_type": "code",
        "outputId": "144ae53a-c57f-446e-977e-b9c033483784",
        "colab": {
          "base_uri": "https://localhost:8080/",
          "height": 34
        }
      },
      "source": [
        "y_hat=x@a\n",
        "mse(y_hat,y)"
      ],
      "execution_count": 9,
      "outputs": [
        {
          "output_type": "execute_result",
          "data": {
            "text/plain": [
              "tensor(7.1842)"
            ]
          },
          "metadata": {
            "tags": []
          },
          "execution_count": 9
        }
      ]
    },
    {
      "cell_type": "code",
      "metadata": {
        "id": "d-h0vwdXuoAd",
        "colab_type": "code",
        "outputId": "f009832a-e116-47af-d080-0db05e2183dc",
        "colab": {
          "base_uri": "https://localhost:8080/",
          "height": 34
        }
      },
      "source": [
        "y_hat[:5]"
      ],
      "execution_count": 10,
      "outputs": [
        {
          "output_type": "execute_result",
          "data": {
            "text/plain": [
              "tensor([0.9019, 1.1942, 1.2149, 1.1421, 1.8179])"
            ]
          },
          "metadata": {
            "tags": []
          },
          "execution_count": 10
        }
      ]
    },
    {
      "cell_type": "code",
      "metadata": {
        "id": "xpS9wJ8OtAPh",
        "colab_type": "code",
        "outputId": "a70fe28a-e9ac-45e3-91b2-14251dc95062",
        "colab": {
          "base_uri": "https://localhost:8080/",
          "height": 286
        }
      },
      "source": [
        "plt.scatter(x[:,0],y)\n",
        "plt.scatter(x[:,0],y_hat)"
      ],
      "execution_count": 11,
      "outputs": [
        {
          "output_type": "execute_result",
          "data": {
            "text/plain": [
              "<matplotlib.collections.PathCollection at 0x7f4dc2860278>"
            ]
          },
          "metadata": {
            "tags": []
          },
          "execution_count": 11
        },
        {
          "output_type": "display_data",
          "data": {
            "image/png": "[encoded data removed]",
            "text/plain": [
              "<Figure size 432x288 with 1 Axes>"
            ]
          },
          "metadata": {
            "tags": []
          }
        }
      ]
    },
    {
      "cell_type": "code",
      "metadata": {
        "id": "uZJQglj5t9Qc",
        "colab_type": "code",
        "colab": {}
      },
      "source": [
        "  a=nn.Parameter(a);"
      ],
      "execution_count": 0,
      "outputs": []
    },
    {
      "cell_type": "code",
      "metadata": {
        "id": "rO6oor2t5l_w",
        "colab_type": "code",
        "colab": {}
      },
      "source": [
        "def update():\n",
        "  y_hat=x@a\n",
        "  loss=mse(y,y_hat)\n",
        "  if t%10 ==0:print(loss)\n",
        "  loss.backward()\n",
        "  with torch.no_grad():\n",
        "    a.sub_(lr * a.grad)\n",
        "    a.grad.zero_()\n"
      ],
      "execution_count": 0,
      "outputs": []
    },
    {
      "cell_type": "code",
      "metadata": {
        "id": "aQtTYHhSms6A",
        "colab_type": "code",
        "colab": {
          "base_uri": "https://localhost:8080/",
          "height": 187
        },
        "outputId": "a9837681-3d10-4014-df77-47b860cf4be4"
      },
      "source": [
        "lr = 1e-1\n",
        "for t in range(100):update()"
      ],
      "execution_count": 15,
      "outputs": [
        {
          "output_type": "stream",
          "text": [
            "tensor(7.1842, grad_fn=<MeanBackward0>)\n",
            "tensor(1.4838, grad_fn=<MeanBackward0>)\n",
            "tensor(0.4159, grad_fn=<MeanBackward0>)\n",
            "tensor(0.1608, grad_fn=<MeanBackward0>)\n",
            "tensor(0.0990, grad_fn=<MeanBackward0>)\n",
            "tensor(0.0841, grad_fn=<MeanBackward0>)\n",
            "tensor(0.0804, grad_fn=<MeanBackward0>)\n",
            "tensor(0.0796, grad_fn=<MeanBackward0>)\n",
            "tensor(0.0794, grad_fn=<MeanBackward0>)\n",
            "tensor(0.0793, grad_fn=<MeanBackward0>)\n"
          ],
          "name": "stdout"
        }
      ]
    },
    {
      "cell_type": "code",
      "metadata": {
        "id": "mzjOGOsZm3PC",
        "colab_type": "code",
        "colab": {
          "base_uri": "https://localhost:8080/",
          "height": 269
        },
        "outputId": "76388b2c-47c2-4f5d-beae-d184bdea944d"
      },
      "source": [
        "plt.scatter(x[:,0],y)\n",
        "plt.scatter(x[:,0],x@a);"
      ],
      "execution_count": 18,
      "outputs": [
        {
          "output_type": "display_data",
          "data": {
            "image/png": "[encoded data removed]",
            "text/plain": [
              "<Figure size 432x288 with 1 Axes>"
            ]
          },
          "metadata": {
            "tags": []
          }
        }
      ]
    }
  ]
}